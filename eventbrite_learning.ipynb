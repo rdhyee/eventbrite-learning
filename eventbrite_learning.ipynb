{
 "cells": [
  {
   "cell_type": "code",
   "execution_count": null,
   "metadata": {
    "collapsed": true
   },
   "outputs": [],
   "source": [
    "from eventbrite import Eventbrite"
   ]
  },
  {
   "cell_type": "code",
   "execution_count": null,
   "metadata": {
    "collapsed": true
   },
   "outputs": [],
   "source": [
    "from settings import (EVENTBRITE_API_KEY, EVENTBRITE_CLIENT_SECRET, \n",
    "                      EVENTBRITE_PERSONAL_OAUTH_TOKEN, EVENTBRITE_ANON_OAUTH_TOKEN)\n",
    "\n",
    "eventbrite = Eventbrite(EVENTBRITE_PERSONAL_OAUTH_TOKEN)\n",
    "eventbrite_anon = Eventbrite(EVENTBRITE_ANON_OAUTH_TOKEN)"
   ]
  },
  {
   "cell_type": "markdown",
   "metadata": {},
   "source": [
    "# user attached to personal token"
   ]
  },
  {
   "cell_type": "code",
   "execution_count": null,
   "metadata": {},
   "outputs": [],
   "source": [
    "user = eventbrite.get_user()  # Not passing an argument returns yourself\n",
    "user['id'], user['name']"
   ]
  },
  {
   "cell_type": "markdown",
   "metadata": {},
   "source": [
    "No user attached to anonymous token"
   ]
  },
  {
   "cell_type": "code",
   "execution_count": null,
   "metadata": {},
   "outputs": [],
   "source": [
    "eventbrite_anon.get_user()"
   ]
  },
  {
   "cell_type": "code",
   "execution_count": null,
   "metadata": {
    "collapsed": true
   },
   "outputs": [],
   "source": [
    "# directly "
   ]
  },
  {
   "cell_type": "code",
   "execution_count": null,
   "metadata": {},
   "outputs": [],
   "source": [
    "user = eventbrite.get('/users/me')\n",
    "user"
   ]
  },
  {
   "cell_type": "code",
   "execution_count": null,
   "metadata": {},
   "outputs": [],
   "source": [
    "owned_events = eventbrite.get('/users/me/owned_events')\n",
    "owned_events"
   ]
  },
  {
   "cell_type": "code",
   "execution_count": null,
   "metadata": {},
   "outputs": [],
   "source": [
    "owned_events['events'][0]"
   ]
  },
  {
   "cell_type": "code",
   "execution_count": null,
   "metadata": {
    "collapsed": true
   },
   "outputs": [],
   "source": [
    "from pandas import DataFrame, Series"
   ]
  },
  {
   "cell_type": "code",
   "execution_count": null,
   "metadata": {},
   "outputs": [],
   "source": [
    "df = DataFrame(owned_events['events'])\n",
    "df"
   ]
  },
  {
   "cell_type": "code",
   "execution_count": null,
   "metadata": {},
   "outputs": [],
   "source": [
    "owned_events['events'][0]"
   ]
  },
  {
   "cell_type": "code",
   "execution_count": null,
   "metadata": {},
   "outputs": [],
   "source": [
    "# attendees\n",
    "\n",
    "test_event_id = owned_events['events'][0]['id']\n",
    "attendees = eventbrite.get('/events/{}/attendees/'.format(test_event_id))\n"
   ]
  },
  {
   "cell_type": "code",
   "execution_count": null,
   "metadata": {},
   "outputs": [],
   "source": [
    "attendee = attendees['attendees'][0]\n",
    "profile = attendee['profile']\n",
    "(profile['first_name'], profile['last_name'], profile['email'])"
   ]
  },
  {
   "cell_type": "code",
   "execution_count": null,
   "metadata": {},
   "outputs": [],
   "source": [
    "owned_events['events'][0]"
   ]
  },
  {
   "cell_type": "code",
   "execution_count": null,
   "metadata": {
    "collapsed": true
   },
   "outputs": [],
   "source": [
    "new_event_data = {'capacity': 50,\n",
    " 'capacity_is_custom': False,\n",
    " 'category_id': None,\n",
    " 'changed': '2017-12-07T18:23:46Z',\n",
    " 'created': '2017-12-07T18:21:55Z',\n",
    " 'currency': 'USD',\n",
    " 'description': {'html': '<P>[This is only a test event.]</P>\\n<P>A month after the BIDS Hack Day, we come back to take what was accomplished to the next level.</P>',\n",
    "  'text': '[This is only a test event.]\\nA month after the BIDS Hack Day, we come back to take what was accomplished to the next level.'},\n",
    " 'end': {'local': '2018-01-08T17:00:00',\n",
    "  'timezone': 'America/Los_Angeles',\n",
    "  'utc': '2018-01-09T01:00:00Z'},\n",
    " 'format_id': None,\n",
    " 'hide_end_date': False,\n",
    " 'hide_start_date': False,\n",
    " 'id': '41116552716',\n",
    " 'invite_only': True,\n",
    " 'is_free': True,\n",
    " 'is_locked': False,\n",
    " 'is_reserved_seating': False,\n",
    " 'is_series': False,\n",
    " 'is_series_parent': False,\n",
    " 'listed': False,\n",
    " 'locale': 'en_US',\n",
    " 'logo': {'aspect_ratio': '2',\n",
    "  'crop_mask': {'height': 512, 'top_left': {'x': 0, 'y': 128}, 'width': 1024},\n",
    "  'edge_color': '#89abc7',\n",
    "  'edge_color_set': True,\n",
    "  'id': '38502347',\n",
    "  'original': {'height': 768,\n",
    "   'url': 'https://img.evbuc.com/https%3A%2F%2Fcdn.evbuc.com%2Fimages%2F38502347%2F719611263%2F1%2Foriginal.jpg?s=d44f0cbba38ead505ab21cef56469c1d',\n",
    "   'width': 1024},\n",
    "  'url': 'https://img.evbuc.com/https%3A%2F%2Fcdn.evbuc.com%2Fimages%2F38502347%2F719611263%2F1%2Foriginal.jpg?h=200&w=450&rect=0%2C128%2C1024%2C512&s=efe477b7e85acacbde2e0c09eedf51ea'},\n",
    " 'logo_id': '38502347',\n",
    " 'name': {'html': '[TEST] Hacking event management systems II',\n",
    "  'text': '[TEST] Hacking event management systems II'},\n",
    " 'online_event': False,\n",
    " 'organizer_id': '15949757195',\n",
    " 'privacy_setting': 'unlocked',\n",
    " 'resource_uri': 'https://www.eventbriteapi.com/v3/events/41116552716/',\n",
    " 'shareable': False,\n",
    " 'show_remaining': True,\n",
    " 'source': 'create_2.0',\n",
    " 'start': {'local': '2018-01-08T09:00:00',\n",
    "  'timezone': 'America/Los_Angeles',\n",
    "  'utc': '2018-01-08T17:00:00Z'},\n",
    " 'status': 'live',\n",
    " 'subcategory_id': None,\n",
    " 'tx_time_limit': 480,\n",
    " 'url': 'https://www.eventbrite.com/e/test-hacking-event-management-systems-ii-tickets-41116552716',\n",
    " 'venue_id': '22421902',\n",
    " 'version': '3.0.0'}"
   ]
  },
  {
   "cell_type": "code",
   "execution_count": null,
   "metadata": {
    "collapsed": true
   },
   "outputs": [],
   "source": [
    "# https://www.eventbrite.com/developer/v3/endpoints/events/#ebapi-post-events\n",
    "\n",
    "new_event_data = {\n",
    "\n",
    "  'event': {\n",
    "    \n",
    "          'name': {\n",
    "               'html': '[TEST] Hacking event management systems III'\n",
    "          },\n",
    "\n",
    "          'start': {\n",
    "            'utc': '2018-02-08T17:00:00Z',\n",
    "            'timezone': 'America/Los_Angeles',  \n",
    "          },\n",
    "\n",
    "         'end': {\n",
    "          'utc': '2018-02-09T01:00:00Z',\n",
    "          'timezone': 'America/Los_Angeles',\n",
    "          },\n",
    "\n",
    "          'currency': 'USD',\n",
    "\n",
    "          'invite_only': True\n",
    "\n",
    "        }\n",
    "    \n",
    "    }"
   ]
  },
  {
   "cell_type": "code",
   "execution_count": null,
   "metadata": {},
   "outputs": [],
   "source": [
    "new_event = eventbrite.post_event(new_event_data)\n",
    "new_event"
   ]
  },
  {
   "cell_type": "markdown",
   "metadata": {},
   "source": [
    "# pagination"
   ]
  },
  {
   "cell_type": "markdown",
   "metadata": {},
   "source": [
    "[Pagination support by njalerikson · Pull Request #41 · eventbrite/eventbrite-sdk-python](https://github.com/eventbrite/eventbrite-sdk-python/pull/41)"
   ]
  },
  {
   "cell_type": "code",
   "execution_count": null,
   "metadata": {
    "collapsed": true
   },
   "outputs": [],
   "source": [
    "# https://www.eventbrite.com/developer/v3/endpoints/events/#ebapi-get-events-search\n",
    "\n",
    "events = eventbrite.get('/events/search', data = {\n",
    "    'sort_by':'date',\n",
    "    'location.address':'Berkeley, CA',\n",
    "    'price':'free'\n",
    "})\n"
   ]
  },
  {
   "cell_type": "code",
   "execution_count": null,
   "metadata": {},
   "outputs": [],
   "source": [
    "events.pagination"
   ]
  },
  {
   "cell_type": "markdown",
   "metadata": {},
   "source": [
    "[Paginated Responses - Eventbrite Developer Center](https://www.eventbrite.com/developer/v3/api_overview/pagination/)\n",
    "\n",
    "> All API endpoints which return multiple objects will return paginated responses; as well as the list of objects (which will usually be under a key like events or attendees, depending on the endpoint) there will also be a pagination key"
   ]
  },
  {
   "cell_type": "code",
   "execution_count": null,
   "metadata": {},
   "outputs": [],
   "source": [
    "len(events['events'])"
   ]
  },
  {
   "cell_type": "code",
   "execution_count": null,
   "metadata": {
    "collapsed": true
   },
   "outputs": [],
   "source": [
    "def all_search(eventbrite, data):\n",
    "    page_number = 1\n",
    "    more_pages = True\n",
    " \n",
    "\n",
    "    while more_pages:\n",
    "        data['page'] = page_number\n",
    "        events = eventbrite.get('/events/search', data=data)\n",
    "        \n",
    "        #print (events['error_description'])\n",
    "        p = events.pagination\n",
    "        print(p, events.keys())\n",
    "        \n",
    "\n",
    "        for event in events['events']:\n",
    "            yield event\n",
    "            \n",
    "        if not p['has_more_items']:\n",
    "            more_pages = False\n",
    "        else:\n",
    "            page_number += 1\n",
    "        \n",
    "    \n",
    "    "
   ]
  },
  {
   "cell_type": "code",
   "execution_count": null,
   "metadata": {
    "collapsed": true
   },
   "outputs": [],
   "source": [
    "events = all_search(eventbrite, data = {\n",
    "    'sort_by':'date',\n",
    "    'location.address':'Berkeley, CA',\n",
    "    'price':'free'\n",
    "})"
   ]
  },
  {
   "cell_type": "code",
   "execution_count": null,
   "metadata": {},
   "outputs": [],
   "source": [
    "e = list(events)"
   ]
  },
  {
   "cell_type": "code",
   "execution_count": null,
   "metadata": {},
   "outputs": [],
   "source": [
    "len(e)"
   ]
  },
  {
   "cell_type": "code",
   "execution_count": null,
   "metadata": {
    "collapsed": true
   },
   "outputs": [],
   "source": []
  }
 ],
 "metadata": {
  "kernelspec": {
   "display_name": "Python 3",
   "language": "python",
   "name": "python3"
  },
  "language_info": {
   "codemirror_mode": {
    "name": "ipython",
    "version": 3
   },
   "file_extension": ".py",
   "mimetype": "text/x-python",
   "name": "python",
   "nbconvert_exporter": "python",
   "pygments_lexer": "ipython3",
   "version": "3.6.2"
  }
 },
 "nbformat": 4,
 "nbformat_minor": 2
}
